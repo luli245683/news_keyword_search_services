{
 "cells": [
  {
   "cell_type": "code",
   "execution_count": 2,
   "id": "funny-telescope",
   "metadata": {},
   "outputs": [],
   "source": [
    "import pandas as pd\n",
    "import os"
   ]
  },
  {
   "cell_type": "code",
   "execution_count": 8,
   "id": "brilliant-shooting",
   "metadata": {},
   "outputs": [],
   "source": [
    "df_list = []\n",
    "root_path = './data/news_info/'\n",
    "for filename in os.listdir(root_path):\n",
    "    if filename.split('.')[-1] == 'csv':\n",
    "        df_list.append(pd.read_csv(root_path + filename, encoding='utf-8'))"
   ]
  },
  {
   "cell_type": "code",
   "execution_count": 27,
   "id": "precious-acrobat",
   "metadata": {},
   "outputs": [],
   "source": [
    "titles = []\n",
    "for df in df_list:\n",
    "    titles.extend(df.iloc[:,1].tolist())"
   ]
  },
  {
   "cell_type": "code",
   "execution_count": 33,
   "id": "asian-military",
   "metadata": {},
   "outputs": [],
   "source": [
    "titles = list(set(titles))"
   ]
  },
  {
   "cell_type": "code",
   "execution_count": 34,
   "id": "interior-translator",
   "metadata": {},
   "outputs": [],
   "source": [
    "with open('./data/news_titles.txt', 'w') as f:\n",
    "    for title in titles:\n",
    "        f.write(title + '\\n')"
   ]
  },
  {
   "cell_type": "code",
   "execution_count": 35,
   "id": "fossil-worthy",
   "metadata": {},
   "outputs": [
    {
     "data": {
      "text/plain": [
       "340"
      ]
     },
     "execution_count": 35,
     "metadata": {},
     "output_type": "execute_result"
    }
   ],
   "source": [
    "len(titles)"
   ]
  },
  {
   "cell_type": "code",
   "execution_count": null,
   "id": "addressed-brazil",
   "metadata": {},
   "outputs": [],
   "source": []
  }
 ],
 "metadata": {
  "kernelspec": {
   "display_name": "Environment (conda_tensorflow2_latest_p37)",
   "language": "python",
   "name": "conda_tensorflow2_latest_p37"
  },
  "language_info": {
   "codemirror_mode": {
    "name": "ipython",
    "version": 3
   },
   "file_extension": ".py",
   "mimetype": "text/x-python",
   "name": "python",
   "nbconvert_exporter": "python",
   "pygments_lexer": "ipython3",
   "version": "3.7.10"
  }
 },
 "nbformat": 4,
 "nbformat_minor": 5
}
